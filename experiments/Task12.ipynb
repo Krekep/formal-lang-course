{
  "nbformat": 4,
  "nbformat_minor": 0,
  "metadata": {
    "colab": {
      "provenance": [],
      "collapsed_sections": [
        "AtZB04_JZ7re"
      ]
    },
    "kernelspec": {
      "name": "python3",
      "display_name": "Python 3"
    },
    "language_info": {
      "name": "python"
    },
    "accelerator": "GPU",
    "gpuClass": "standard"
  },
  "cells": [
    {
      "cell_type": "markdown",
      "source": [
        "# Задача 12 (бонус). Экспериментальное исследование алгоритмов решения задачи достижимости с КС ограничениями"
      ],
      "metadata": {
        "id": "GR1PHYAYbSOs"
      }
    },
    {
      "cell_type": "markdown",
      "source": [
        "## Введение\n",
        "\n",
        "В данной работе рассматривается задача достижимости в графе с контекстно-свободными ограничениями: исследуется производительность нескольких алгоритмов её решения, основанных на линейной алгебре, а также проводится их сравнение с решением схожей задачи при регулярных ограничениях. Алгоритмы реализованы на языке Python так, что матричные операции осуществляются на CUDA-ядрах GPU при помощи библиотеки [pyCuBool](https://pypi.org/project/pycubool/).\n"
      ],
      "metadata": {
        "id": "w489zVMXbMqL"
      }
    },
    {
      "cell_type": "markdown",
      "source": [
        "### Описание задачи достижимости\n",
        "Пусть имеется размеченный граф $G(V, E, Lab)$. Тогда конечный автомат построенный по этому графу (рёбра → переходы, вершины → состояния) допускает регулярный язык $L_G$\n",
        "\n",
        "Пусть нам задана КС-грамматика $CFG$, задающая язык ограничений $L_{CFG}$.\n",
        "\n",
        "Тогда задача достижимости заключается в нахождение следующего множества: $CFPQ = \\{(v_i, v_j)|\\exists\\pi:w(v_i\\pi v_j)\\in L, v_i\\in V_S, v_j\\in V_F\\}$, где $L = L_G\\cap L_{CFG}$, $V_S \\in V$ --- множество стартовых вершин и $V_F \\in V$ --- множество финальных вершин"
      ],
      "metadata": {
        "id": "QEKbBXYIkZ_j"
      }
    },
    {
      "cell_type": "markdown",
      "source": [
        "### Исследуемые решения\n",
        "\n",
        "Рассматриваются следующие алгоритмы решения задачи достижимости с контекстно-свободными ограничениями. В каждом алгоритме строится транзитивное замыкание графа с учётом правил ограничивающей грамматики:\n",
        "\n",
        "1. Алгоритм Хеллингса. Грамматика переводится в ОНФХ. Поддерживается множество рёбер графа, которые ещё не были рассмотрены. Рассмотрение очередного ребра заключается в проверке его в паре с каждым смежным с ним ребром на порождаемость в грамматике. В случае, если пара порождаема, то на рассмотрение добавляется соответствующее ребро с порождающим символом. \n",
        "\n",
        "2. Матричный алгоритм. Грамматика переводится в ОНФХ. Затем строится матрица смежности графа, по которой вычисляется транзитивное замыкание --- пока матрица меняется проводится аккумулирование результата возведения её в квадрат.\n",
        "\n",
        "3. Тензорный алгоритм. По грамматике строится рекурсивный автомат. Для графа и полученного автомата строятся матрицы смежности. Затем, пока транзитивное замыкание не построено (пока в нём добавляются новые рёбра), строится пересечение матриц и его транзитивное замыкание, новые рёбра которого добавляются в графи его матрицу смежности.\n",
        "\n",
        "Также для сравнения с вышеприведёнными алгоритмами используется алгоритм решения задачи $RPQ$ между всеми парами вершин, так как в [предыдущей работе](https://colab.research.google.com/drive/1Gau-VhZ0J6JO7-60HCzNHnrSo1N51MS_?usp=sharing) согласно экспериментам было получено, что лучше других подходит данной постановке задачи. \n",
        "Дополнительно стоит отметить, что алгоритм Хеллингса не использует матричные операции и его реализация не использует технологию $GPGPU$"
      ],
      "metadata": {
        "id": "FIppOYf6lpI3"
      }
    },
    {
      "cell_type": "markdown",
      "source": [
        "### Цель работы\n",
        "\n",
        "Целью данной работы является сравнение решений задачи достижимости с ограничениями в терминах формальных языков, а именно, нахождение ответов на следующие вопросы:\n",
        "\n",
        "1. Какой из трёх указанных алгоритмов решения задачи с контекстно-свободными ограничениями (Хеллингса, матричный или тензорный) обладает лучшей производительностью?\n",
        "2. Имеет ли смысл для решения задачи достижимости с регулярными ограничениями использовать алгоритмы для контекстно-свободных ограничений (ведь регулярные --- частный случай КС) или всё же лучше использовать специализированные алгоритмы для регулярных ограничений?\n"
      ],
      "metadata": {
        "id": "HT8cJZ_VuYUs"
      }
    },
    {
      "cell_type": "markdown",
      "source": [
        "## Описание экспериментов"
      ],
      "metadata": {
        "id": "KKgbOUQJvL6Y"
      }
    },
    {
      "cell_type": "markdown",
      "source": [
        "### Подготовка окружения"
      ],
      "metadata": {
        "id": "J_stSNek_2Yd"
      }
    },
    {
      "cell_type": "code",
      "source": [
        "# Установка проекта https://github.com/Krekep/formal-lang-course\n",
        "!git clone -b task12 https://github.com/Krekep/formal-lang-course.git"
      ],
      "metadata": {
        "colab": {
          "base_uri": "https://localhost:8080/"
        },
        "id": "3oZlKTlV_9Xr",
        "outputId": "f0486cdd-e559-4e60-a73c-6bd4a4aca84e"
      },
      "execution_count": 1,
      "outputs": [
        {
          "output_type": "stream",
          "name": "stdout",
          "text": [
            "Cloning into 'formal-lang-course'...\n",
            "remote: Enumerating objects: 689, done.\u001b[K\n",
            "remote: Counting objects: 100% (100/100), done.\u001b[K\n",
            "remote: Compressing objects: 100% (47/47), done.\u001b[K\n",
            "remote: Total 689 (delta 64), reused 82 (delta 53), pack-reused 589\u001b[K\n",
            "Receiving objects: 100% (689/689), 2.63 MiB | 6.79 MiB/s, done.\n",
            "Resolving deltas: 100% (365/365), done.\n"
          ]
        }
      ]
    },
    {
      "cell_type": "code",
      "source": [
        "%%capture\n",
        "# Установка зависимостей проекта\n",
        "!pip install -r formal-lang-course/requirements.txt\n",
        "# Установка библиотеки pycubool\n",
        "!pip install pycubool\n",
        "\n",
        "# Установка библиотек для красивых графиков\n",
        "!pip install matplotlib\n",
        "!pip install seaborn"
      ],
      "metadata": {
        "id": "Gs0Q3DoQARE7"
      },
      "execution_count": 2,
      "outputs": []
    },
    {
      "cell_type": "code",
      "source": [
        "# Подключение директории проекта\n",
        "import sys\n",
        "sys.path.insert(1, \"formal-lang-course\")"
      ],
      "metadata": {
        "id": "oGHHHp1EAT8C"
      },
      "execution_count": 3,
      "outputs": []
    },
    {
      "cell_type": "markdown",
      "source": [
        "### Характеристики оборудования"
      ],
      "metadata": {
        "id": "Fz1fR82UwBte"
      }
    },
    {
      "cell_type": "markdown",
      "source": [],
      "metadata": {
        "id": "D4QbSdSf_413"
      }
    },
    {
      "cell_type": "code",
      "source": [
        "# Сведения об операционной системе\n",
        "!cat /etc/os-release"
      ],
      "metadata": {
        "colab": {
          "base_uri": "https://localhost:8080/"
        },
        "id": "hmbIf161wFHV",
        "outputId": "b2d78ec2-a892-4e83-c2cf-0c5487bce62b"
      },
      "execution_count": 4,
      "outputs": [
        {
          "output_type": "stream",
          "name": "stdout",
          "text": [
            "NAME=\"Ubuntu\"\n",
            "VERSION=\"18.04.6 LTS (Bionic Beaver)\"\n",
            "ID=ubuntu\n",
            "ID_LIKE=debian\n",
            "PRETTY_NAME=\"Ubuntu 18.04.6 LTS\"\n",
            "VERSION_ID=\"18.04\"\n",
            "HOME_URL=\"https://www.ubuntu.com/\"\n",
            "SUPPORT_URL=\"https://help.ubuntu.com/\"\n",
            "BUG_REPORT_URL=\"https://bugs.launchpad.net/ubuntu/\"\n",
            "PRIVACY_POLICY_URL=\"https://www.ubuntu.com/legal/terms-and-policies/privacy-policy\"\n",
            "VERSION_CODENAME=bionic\n",
            "UBUNTU_CODENAME=bionic\n"
          ]
        }
      ]
    },
    {
      "cell_type": "code",
      "source": [
        "# Сведения об используемом CPU\n",
        "!lscpu | grep 'Model name'\n",
        "!lscpu | grep 'Socket(s)'\n",
        "!lscpu | grep 'Core(s) per socket:'\n",
        "!lscpu | grep 'Thread(s) per core'\n",
        "!lscpu | grep \"MHz\""
      ],
      "metadata": {
        "colab": {
          "base_uri": "https://localhost:8080/"
        },
        "id": "QQP6yGJkwF8c",
        "outputId": "4af3412d-8b7d-4708-be0d-4ca35402f76d"
      },
      "execution_count": 5,
      "outputs": [
        {
          "output_type": "stream",
          "name": "stdout",
          "text": [
            "Model name:          Intel(R) Xeon(R) CPU @ 2.20GHz\n",
            "Socket(s):           1\n",
            "Core(s) per socket:  1\n",
            "Thread(s) per core:  2\n",
            "CPU MHz:             2200.154\n"
          ]
        }
      ]
    },
    {
      "cell_type": "code",
      "source": [
        "# Сведения об используемом GPU\n",
        "!nvidia-smi"
      ],
      "metadata": {
        "colab": {
          "base_uri": "https://localhost:8080/"
        },
        "id": "RiA1FfnpwHnz",
        "outputId": "fcb05972-c14d-42a7-c9d6-95a35b3824aa"
      },
      "execution_count": 6,
      "outputs": [
        {
          "output_type": "stream",
          "name": "stdout",
          "text": [
            "NVIDIA-SMI has failed because it couldn't communicate with the NVIDIA driver. Make sure that the latest NVIDIA driver is installed and running.\n",
            "\n"
          ]
        }
      ]
    },
    {
      "cell_type": "code",
      "source": [
        "# Сведения о размере оперативной памяти системы в GB\n",
        "!echo 'Total RAM (GB)'\n",
        "!awk '( $1 == \"MemTotal:\" ) { print $2/1048576 }' /proc/meminfo"
      ],
      "metadata": {
        "colab": {
          "base_uri": "https://localhost:8080/"
        },
        "id": "igkTIzi2wJLv",
        "outputId": "b27ad513-1690-46a2-d4f0-2f565ef0bcf7"
      },
      "execution_count": 7,
      "outputs": [
        {
          "output_type": "stream",
          "name": "stdout",
          "text": [
            "Total RAM (GB)\n",
            "12.6812\n"
          ]
        }
      ]
    },
    {
      "cell_type": "markdown",
      "source": [
        "### Описание данных для экспериментов\n",
        "\n",
        "В качестве графов для экспериментов будем использовать графы из [cfpq-data](https://jetbrains-research.github.io/CFPQ_Data/dataset/index.html) датасета. Были выбраны следующие графы из различных категорий:\n",
        "\n",
        "* RDF-графы: [skos](https://formallanguageconstrainedpathquerying.github.io/CFPQ_Data/graphs/data/go.html#go), [atom](https://formallanguageconstrainedpathquerying.github.io/CFPQ_Data/graphs/data/atom.html#atom), [go_hierarchy](https://formallanguageconstrainedpathquerying.github.io/CFPQ_Data/graphs/data/go_hierarchy.html#go-hierarchy), [go](https://formallanguageconstrainedpathquerying.github.io/CFPQ_Data/graphs/data/go.html#go)\n",
        "* Графы языка Си: [bzip](https://formallanguageconstrainedpathquerying.github.io/CFPQ_Data/graphs/data/go.html#go), [ls](https://formallanguageconstrainedpathquerying.github.io/CFPQ_Data/graphs/data/ls.html#ls), [apache](https://formallanguageconstrainedpathquerying.github.io/CFPQ_Data/graphs/data/apache.html#apache)\n",
        "* Графы языка Java: [lusearch](https://formallanguageconstrainedpathquerying.github.io/CFPQ_Data/graphs/data/lusearch.html#lusearch), [sunflow](https://formallanguageconstrainedpathquerying.github.io/CFPQ_Data/graphs/data/sunflow.html#sunflow), [pmd](https://formallanguageconstrainedpathquerying.github.io/CFPQ_Data/graphs/data/pmd.html#pmd), [jython](https://formallanguageconstrainedpathquerying.github.io/CFPQ_Data/graphs/data/jython.html#jython)\n",
        "\n",
        "Использовать для замеров графы, обладающие большим числом вершин, на представленном оборудовании оказалось невозможно из-за нехватки видеопамяти для алгоритмов, использующих GPU. Выбранные графы были взяты разных размеров, от маленьких на несколько сотен вершин, до графов с несколькими миллионами вершин, в том числе с несколькими компонентами связности."
      ],
      "metadata": {
        "id": "6Jwp5KxiwOo5"
      }
    },
    {
      "cell_type": "code",
      "source": [
        "GRAPH_NAMES = [\n",
        "    # Маленькие графы\n",
        "    \"skos\",\n",
        "    \"bzip\",\n",
        "    \"ls\",\n",
        "    \"atom\",\n",
        "    \n",
        "    # Большие графы\n",
        "    \"sunflow\",\n",
        "    \"lusearch\",\n",
        "    \"go_hierarchy\",\n",
        "    \"go\",\n",
        "    \"apache\",\n",
        "    \"pmd\",\n",
        "    \"jython\"\n",
        "]\n",
        "SMALL_GRAPHS = {\n",
        "    # Маленькие графы\n",
        "    \"skos\",\n",
        "    \"bzip\",\n",
        "    \"ls\",\n",
        "    \"atom\"\n",
        "}\n",
        "LARGE_GRAPHS = {\n",
        "    # Большие графы\n",
        "    \"sunflow\",\n",
        "    \"lusearch\",\n",
        "    \"go_hierarchy\",\n",
        "    \"go\",\n",
        "    \"apache\",\n",
        "    \"pmd\",\n",
        "    \"jython\"\n",
        "}\n",
        "GRAPHS_RDF = [\"skos\", \"atom\", \"go_hierarchy\", \"go\"]\n",
        "GRAPHS_C = [\"bzip\", \"ls\", \"apache\"]\n",
        "GRAPHS_JAVA = [\"lusearch\", \"sunflow\", \"pmd\", \"jython\"]"
      ],
      "metadata": {
        "id": "0jZ_45Rw9L4S"
      },
      "execution_count": 8,
      "outputs": []
    },
    {
      "cell_type": "code",
      "source": [
        "## Для получения информации о графах необходимо раскомментировать эту ячейку и запустить\n",
        "\n",
        "# Информация о графах\n",
        "\n",
        "# from project.graph_utils import get_graph_info\n",
        "# from project.manager import get_graph\n",
        "# import pandas as pd \n",
        "# import cfpq_data\n",
        "\n",
        "# edges = []\n",
        "# nodes = []\n",
        "\n",
        "# for graph_name in GRAPH_NAMES:\n",
        "#     graph_info = get_graph_info(get_graph(graph_name))\n",
        "#     edges.append(graph_info.edges)\n",
        "#     nodes.append(graph_info.nodes)\n",
        "\n",
        "\n",
        "# df = pd.DataFrame(\n",
        "#     {\n",
        "#         \"Edges\": edges,\n",
        "#         \"Nodes\": nodes,\n",
        "#     },\n",
        "#     index=GRAPH_NAMES\n",
        "# )\n",
        "# df"
      ],
      "metadata": {
        "id": "4GrdB7kQ_sJi"
      },
      "execution_count": 9,
      "outputs": []
    },
    {
      "cell_type": "markdown",
      "source": [
        "### Запросы\n",
        "\n",
        "Для каждой группы графов были выбраны свои контекстно-свободные запросы:\n",
        "\n",
        "* Для RDF-графов: \n",
        "    1. `S -> subClassOf_r S subClassOf | subClassOf_r subClassOf | type_r S type | type_r type`\n",
        "    2. `S -> subClassOf_r S subClassOf | subClassOf_r subClassOf`\n",
        "    3. `S -> type_r S type | type_r type` \n",
        "* Для графов языка C:\n",
        "```\n",
        "S -> d_r V d\n",
        "V -> V1 V2 V3\n",
        "V1 -> epsilon\n",
        "V1 -> V2 a_r V1\n",
        "V2 -> epsilon\n",
        "V2 -> S\n",
        "V3 -> epsilon\n",
        "V3 -> a V2 V3\n",
        "```\n",
        "* Для графов языка Java:\n",
        "```\n",
        "S -> PTh alloc\n",
        "PTh -> epsilon\n",
        "PTh -> assign PTh\n",
        "(for each field f) PTh -> load_f Al store_f PTh\n",
        "FT -> alloc_r FTh\n",
        "FTh -> epsilon\n",
        "FTh -> assign_r FTh\n",
        "(for each field f) FTh -> store_f_r Al load_f_r FTh\n",
        "Al -> S FT\n",
        "```\n",
        "\n",
        "Регулярные запросы были взяты из [предыдущей работы](https://colab.research.google.com/drive/1Gau-VhZ0J6JO7-60HCzNHnrSo1N51MS_?usp=sharing) (если в графе число меток меньше числа запросов, тогда метки дополняются уже имеющимися. В графе должна быть по крайней мере 1 метка, иначе эксперимент не имеет смысла):\n",
        "- $(L_0 | L_1 | L_2)^* \\: L_3$\n",
        "- $(L_0 | L_2)$+ ${L_1}^*$\n",
        "- $L_0\\,L_1\\,L_2\\,(L_3 | L_1)^*$\n",
        "- $(L_0 | L_3)^*\\,\\,|\\,\\,(L_1 | L_2)^*$\n",
        "- $(L_0 L_1 L_2)^* | L_3$\n",
        "\n",
        "Для алгоритмов решения задачи $CFPQ$ регулярные запросы переводились в КС грамматики."
      ],
      "metadata": {
        "id": "WttteS0JCR63"
      }
    },
    {
      "cell_type": "code",
      "source": [
        "# Генерация регулярных выражений\n",
        "\n",
        "from pyformlang.regular_expression.regex_objects import Symbol\n",
        "from pyformlang.regular_expression import Regex\n",
        "\n",
        "NUMBER_OF_LABELS = 4\n",
        "\n",
        "def regex_from_label(label):\n",
        "    regex = Regex(\"\")\n",
        "    regex.head = Symbol(str(label))\n",
        "    return regex\n",
        "\n",
        "def expand(lst, expand_size):\n",
        "    \"\"\"\n",
        "    If number of labels < NUMBER_OF_LABELS, then expand them with existing ones\n",
        "    \"\"\"\n",
        "    expand_length = expand_size - len(lst)\n",
        "    if expand_length <= 0:\n",
        "        return lst\n",
        "    expanded_lst = lst.copy()\n",
        "    for i in range(expand_length):\n",
        "        expanded_lst.append(expanded_lst[i])\n",
        "    return expanded_lst\n",
        "\n",
        "def regex_first(labels):\n",
        "    \"\"\"\n",
        "    (l0 | l1 | l2)* l3\n",
        "    \"\"\"\n",
        "    labels = expand(labels, NUMBER_OF_LABELS)\n",
        "    regex_0 = regex_from_label(labels[0])\n",
        "    regex_1 = regex_from_label(labels[1])\n",
        "    regex_2 = regex_from_label(labels[2])\n",
        "    regex_3 = regex_from_label(labels[3])\n",
        "    return regex_0.union(regex_1).union(regex_2).kleene_star().concatenate(regex_3)\n",
        "  \n",
        "\n",
        "def regex_second(labels):\n",
        "    \"\"\"\n",
        "    (l0 | l2)+ l1*\n",
        "    \"\"\"\n",
        "    labels = expand(labels, NUMBER_OF_LABELS)\n",
        "    regex_0 = regex_from_label(labels[0])\n",
        "    regex_1 = regex_from_label(labels[1])\n",
        "    regex_2 = regex_from_label(labels[2])\n",
        "    return regex_0.union(regex_2).union(regex_1.kleene_star())\n",
        "\n",
        "def regex_third(labels):\n",
        "    \"\"\"\n",
        "    l0 l1 l2 (l3 | l1)*\n",
        "    \"\"\" \n",
        "    labels = expand(labels, NUMBER_OF_LABELS)\n",
        "    regex_0 = regex_from_label(labels[0])\n",
        "    regex_1 = regex_from_label(labels[1])\n",
        "    regex_2 = regex_from_label(labels[2])\n",
        "    regex_3 = regex_from_label(labels[3])\n",
        "    return regex_0.concatenate(regex_1).concatenate(regex_2).concatenate((regex_3.union(regex_1)).kleene_star())\n",
        "\n",
        "def regex_fourth(labels):\n",
        "    \"\"\"\n",
        "    (l0 | l3)* | (l1 | l2)*\n",
        "    \"\"\"\n",
        "    labels = expand(labels, NUMBER_OF_LABELS)\n",
        "    regex_0 = regex_from_label(labels[0])\n",
        "    regex_1 = regex_from_label(labels[1])\n",
        "    regex_2 = regex_from_label(labels[2])\n",
        "    regex_3 = regex_from_label(labels[3])\n",
        "    left_regex = (regex_0.union(regex_3)).kleene_star()\n",
        "    right_regex = (regex_1.union(regex_2)).kleene_star()\n",
        "    return left_regex.union(right_regex)\n",
        "\n",
        "def regex_fifth(labels):\n",
        "    \"\"\"\n",
        "    (l0 l1 l2)* | l3\n",
        "    \"\"\"\n",
        "    labels = expand(labels, NUMBER_OF_LABELS)\n",
        "    regex_0 = regex_from_label(labels[0])\n",
        "    regex_1 = regex_from_label(labels[1])\n",
        "    regex_2 = regex_from_label(labels[2])\n",
        "    regex_3 = regex_from_label(labels[3])\n",
        "    return regex_0.concatenate(regex_1).concatenate(regex_2).kleene_star().union(regex_3)\n",
        "\n",
        "def reg_to_cfg(r):\n",
        "    return lambda labs: r(labs).to_cfg()\n",
        "\n",
        "CFG_GENERATORS = ((regex_first.__doc__.strip().strip('\\n'), reg_to_cfg(regex_first)), \n",
        "                  (regex_second.__doc__.strip().strip('\\n'), reg_to_cfg(regex_second)), \n",
        "                  (regex_third.__doc__.strip().strip('\\n'), reg_to_cfg(regex_third)), \n",
        "                  (regex_fourth.__doc__.strip().strip('\\n'), reg_to_cfg(regex_fourth)), \n",
        "                  (regex_fifth.__doc__.strip().strip('\\n'), reg_to_cfg(regex_fifth))\n",
        "                 )\n",
        "\n",
        "REG_GENERATORS = ((regex_first.__doc__.strip().strip('\\n'), regex_first), \n",
        "                  (regex_second.__doc__.strip().strip('\\n'), regex_second), \n",
        "                  (regex_third.__doc__.strip().strip('\\n'), regex_third), \n",
        "                  (regex_fourth.__doc__.strip().strip('\\n'), regex_fourth), \n",
        "                  (regex_fifth.__doc__.strip().strip('\\n'), regex_fifth)\n",
        "                 )"
      ],
      "metadata": {
        "id": "EEq1rsiIIalL"
      },
      "execution_count": 10,
      "outputs": []
    },
    {
      "cell_type": "code",
      "source": [
        "import pyformlang.cfg as c\n",
        "import cfpq_data\n",
        "\n",
        "\n",
        "def get_cf_queries(graph):\n",
        "    if graph in GRAPHS_RDF:\n",
        "        return list(CFG_RDF.items())\n",
        "    elif graph in GRAPHS_C:\n",
        "        return list(CFGS_C.items())\n",
        "    elif graph in GRAPHS_JAVA:\n",
        "        return list(CFGS_JAVA.items())\n",
        "    else:\n",
        "        raise ValueError(\"Unknown graph\")\n",
        "\n",
        "\n",
        "CFG_RDF = {\n",
        "    \"rdf_1\": c.CFG.from_text(\n",
        "        \"S -> subClassOf_r S subClassOf | subClassOf_r subClassOf | type_r S type | type_r type\"\n",
        "    ),\n",
        "    \"rdf_2\": c.CFG.from_text(\"S -> subClassOf_r S subClassOf | subClassOf_r subClassOf\"),\n",
        "    \"rdf_3\": c.CFG.from_text(\"S -> type_r S type | type_r type\"),\n",
        "}\n",
        "\n",
        "CFGS_C = {\n",
        "    \"c_alias\": c.CFG.from_text(\n",
        "        \"\"\"\n",
        "        S -> d_r V d\n",
        "        V -> V1 V2 V3\n",
        "        V1 -> epsilon\n",
        "        V1 -> V2 a_r V1\n",
        "        V2 -> epsilon\n",
        "        V2 -> S\n",
        "        V3 -> epsilon\n",
        "        V3 -> a V2 V3\n",
        "        \"\"\"\n",
        "    )\n",
        "}\n",
        "\n",
        "CFGS_JAVA = {\n",
        "    \"java_points_to\": c.CFG.from_text(\n",
        "        \"\"\"\n",
        "        S -> PTh alloc\n",
        "        PTh -> epsilon\n",
        "        PTh -> assign PTh\n",
        "        PTh -> load_0 Al store_0 PTh\n",
        "        PTh -> load_1 Al store_1 PTh\n",
        "        FT -> alloc_r FTh\n",
        "        FTh -> epsilon\n",
        "        FTh -> assign_r FTh\n",
        "        FTh -> store_0_r Al load_0_r FTh\n",
        "        FTh -> store_1_r Al load_1_r FTh\n",
        "        Al -> S FT\n",
        "        \"\"\"\n",
        "    )\n",
        "}"
      ],
      "metadata": {
        "id": "sdadltS8NjB4"
      },
      "execution_count": 11,
      "outputs": []
    },
    {
      "cell_type": "markdown",
      "source": [
        "### Определение нужных замеров\n",
        "\n",
        "Для ответа на первый вопрос (о сравнении производительности КС-алгоритмов) необходимо замерить время работы каждого КС-алгоритма на каждом графе и КС-запросе.  Алгоритм, затрачивающий наименьшее число времени для решения задачи, будет обладать наибольшей производительностью.\n",
        "\n",
        "Для ответа на второй вопрос (о выгоде от использования специальных алгоритмов для регулярных запросов) необходимо замерить время работы каждого КС-алгоритма и наиболее быстрого из алгоритмов для регулярных запросов (выбранного по результату предыдущей работы) на каждом графе и каждом регулярном запросе. В случае, если регулярный алгоритм окажется быстрее всех КС-алгоритмов, использовать его для регулярных запросов будет эффективнее.\n",
        "\n",
        "Итого, для каждого графа и каждого КС-запроса нужно провести замеры времени работы КС-алгоритмов, а также для каждого графа и каждого регулярного запроса нужно провести замеры времени работы КС-алгоритмов и выбранного регулярного алгоритма.\n",
        "\n",
        "\n",
        "Время работы каждого алгоритма для маленьких графов замерялось пять раз подряд для дальнейшего усреднения. Для больших графов время выполнение функции замеряется единожды для каждого запроса. Данное решение обосновано незначительностью погрешности времени выполнения на больших графах и вычислительными возможностями оборудования."
      ],
      "metadata": {
        "id": "SRyffb1tRRdC"
      }
    },
    {
      "cell_type": "markdown",
      "source": [
        "### Алгоритмы CFPQ"
      ],
      "metadata": {
        "id": "YEZ42_DiV6_o"
      }
    },
    {
      "cell_type": "markdown",
      "source": [
        "#### Реализация через scipy"
      ],
      "metadata": {
        "id": "N3mwcFyTWFBl"
      }
    },
    {
      "cell_type": "code",
      "source": [
        "from project.cfpq import cfpq_by_hellings"
      ],
      "metadata": {
        "id": "CHzgl1zuWIyl",
        "colab": {
          "base_uri": "https://localhost:8080/"
        },
        "outputId": "6b84495b-8450-45fb-8f9e-e910ada6abc0"
      },
      "execution_count": 12,
      "outputs": [
        {
          "output_type": "stream",
          "name": "stdout",
          "text": [
            "import sources directory\n"
          ]
        }
      ]
    },
    {
      "cell_type": "markdown",
      "source": [
        "#### Реализация через pycubool"
      ],
      "metadata": {
        "id": "KcCoIjj5et-p"
      }
    },
    {
      "cell_type": "code",
      "source": [
        "\"\"\"\n",
        "Декомпозиция автомата в качестве булевых матриц\n",
        "\"\"\"\n",
        "\n",
        "import pycubool as cb\n",
        "\n",
        "from pyformlang.finite_automaton import (\n",
        "    State,\n",
        "    NondeterministicFiniteAutomaton,\n",
        "    FiniteAutomaton,\n",
        ")\n",
        "\n",
        "\n",
        "class CuBoolAutomaton:\n",
        "    \"\"\"\n",
        "    Class representing boolean matrix decomposition of finite automaton\n",
        "    \"\"\"\n",
        "\n",
        "    def __init__(self):\n",
        "        self.num_states = 0\n",
        "        self.start_states = set()\n",
        "        self.final_states = set()\n",
        "        self.bool_matrices = {}\n",
        "        self.state_indices = {}\n",
        "\n",
        "    @classmethod\n",
        "    def from_automaton(cls, automaton: FiniteAutomaton):\n",
        "        \"\"\"\n",
        "        Transform automaton to set of labeled boolean matrix\n",
        "        Parameters\n",
        "        ----------\n",
        "        automaton\n",
        "            Automaton for transforming\n",
        "\n",
        "        Returns\n",
        "        -------\n",
        "        CuBoolAutomaton\n",
        "            Result of transforming\n",
        "        \"\"\"\n",
        "\n",
        "        automaton_matrix = cls()\n",
        "        automaton_matrix.num_states = len(automaton.states)\n",
        "        automaton_matrix.start_states = automaton.start_states\n",
        "        automaton_matrix.final_states = automaton.final_states\n",
        "        automaton_matrix.state_indices = {\n",
        "            state: idx for idx, state in enumerate(automaton.states)\n",
        "        }\n",
        "        for s_from, trans in automaton.to_dict().items():\n",
        "            for label, states_to in trans.items():\n",
        "                if not isinstance(states_to, set):\n",
        "                    states_to = {states_to}\n",
        "                for s_to in states_to:\n",
        "                    idx_from = automaton_matrix.state_indices[s_from]\n",
        "                    idx_to = automaton_matrix.state_indices[s_to]\n",
        "                    if label not in automaton_matrix.bool_matrices.keys():\n",
        "                        automaton_matrix.bool_matrices[label] = cb.Matrix.empty(shape=(automaton_matrix.num_states, automaton_matrix.num_states))\n",
        "                    automaton_matrix.bool_matrices[label][idx_from, idx_to] = True\n",
        "\n",
        "        return automaton_matrix\n",
        "\n",
        "    @classmethod\n",
        "    def from_rsm(cls, rsm):\n",
        "        \"\"\"\n",
        "        Transform automaton to set of labeled boolean matrix\n",
        "        Parameters\n",
        "        ----------\n",
        "        rsm\n",
        "            Automaton for transforming\n",
        "        Returns\n",
        "        -------\n",
        "        AutomatonSetOfMatrix\n",
        "            Result of transforming\n",
        "        \"\"\"\n",
        "\n",
        "        states, start_states, final_states = set(), set(), set()\n",
        "        for var, nfa in rsm.boxes.items():\n",
        "            for s in nfa.states:\n",
        "                state = State((var, s.value))\n",
        "                states.add(state)\n",
        "                if s in nfa.start_states:\n",
        "                    start_states.add(state)\n",
        "                if s in nfa.final_states:\n",
        "                    final_states.add(state)\n",
        "\n",
        "        states = sorted(states, key=lambda v: (v.value[0].value, v.value[1]))\n",
        "        state_to_idx = {s: i for i, s in enumerate(states)}\n",
        "\n",
        "        automaton_matrix = cls()\n",
        "        automaton_matrix.num_states = len(states)\n",
        "        automaton_matrix.start_states = start_states\n",
        "        automaton_matrix.final_states = final_states\n",
        "        automaton_matrix.state_indices = state_to_idx\n",
        "\n",
        "\n",
        "        for var, nfa in rsm.boxes.items():\n",
        "            for state_from, transitions in nfa.to_dict().items():\n",
        "                for label, states_to in transitions.items():\n",
        "                    if label not in automaton_matrix.bool_matrices.keys():\n",
        "                        automaton_matrix.bool_matrices[label] = cb.Matrix.empty(shape=(automaton_matrix.num_states, automaton_matrix.num_states))\n",
        "                    states_to = states_to if isinstance(states_to, set) else {states_to}\n",
        "                    for state_to in states_to:\n",
        "                        automaton_matrix.bool_matrices[label][\n",
        "                            state_to_idx[State((var, state_from.value))],\n",
        "                            state_to_idx[State((var, state_to.value))],\n",
        "                        ] = True\n",
        "\n",
        "        return automaton_matrix\n",
        "\n",
        "    def to_automaton(self) -> NondeterministicFiniteAutomaton:\n",
        "        \"\"\"\n",
        "        Transform set of labeled boolean matrix to automaton.\n",
        "\n",
        "        Parameters\n",
        "        ----------\n",
        "        self\n",
        "            Set of boolean matrix with label as key\n",
        "\n",
        "        Returns\n",
        "        -------\n",
        "        CuBoolAutomaton\n",
        "            Resulting automaton\n",
        "        \"\"\"\n",
        "\n",
        "        automaton = NondeterministicFiniteAutomaton()\n",
        "        for label in self.bool_matrices.keys():\n",
        "            for s_from, s_to in self.bool_matrices[label]:\n",
        "                automaton.add_transition(s_from, label, s_to)\n",
        "\n",
        "        for state in self.start_states:\n",
        "            automaton.add_start_state(State(state))\n",
        "\n",
        "        for state in self.final_states:\n",
        "            automaton.add_final_state(State(state))\n",
        "\n",
        "        return automaton\n",
        "\n",
        "    @property\n",
        "    def get_states(self):\n",
        "        return self.state_indices.keys()\n",
        "\n",
        "    @property\n",
        "    def get_start_states(self):\n",
        "        return self.start_states.copy()\n",
        "\n",
        "    @property\n",
        "    def get_final_states(self):\n",
        "        return self.final_states.copy()\n",
        "\n",
        "    def get_transitive_closure(self):\n",
        "        \"\"\"\n",
        "        Get transitive closure of sparse.csr_matrix\n",
        "\n",
        "        Parameters\n",
        "        ----------\n",
        "        self\n",
        "            Class exemplar\n",
        "\n",
        "        Returns\n",
        "        -------\n",
        "            Transitive closure\n",
        "        \"\"\"\n",
        "\n",
        "        shape = list(self.bool_matrices.values())[0].shape\n",
        "        tc = cb.Matrix.empty(shape=shape)\n",
        "\n",
        "        if len(self.bool_matrices) != 0:\n",
        "            for elem in self.bool_matrices.values():\n",
        "                tc = tc.ewiseadd(elem)\n",
        "            prev_nnz = tc.nvals\n",
        "            new_nnz = 0\n",
        "\n",
        "            while prev_nnz != new_nnz:\n",
        "                tc.mxm(tc, out=tc, accumulate=True)  # t += t * t\n",
        "                prev_nnz, new_nnz = new_nnz, tc.nvals\n",
        "\n",
        "        return tc\n",
        "\n",
        "    def intersect(self, other):\n",
        "        \"\"\"\n",
        "        Get intersection of two automatons\n",
        "        Parameters\n",
        "        ----------\n",
        "        self\n",
        "            First automaton\n",
        "        other\n",
        "            Second automaton\n",
        "\n",
        "        Returns\n",
        "        -------\n",
        "        CuBoolAutomaton\n",
        "            Result of intersection\n",
        "        \"\"\"\n",
        "        intersection = CuBoolAutomaton()\n",
        "        intersection.num_states = self.num_states * other.num_states\n",
        "        common_labels = set(self.bool_matrices.keys()).union(other.bool_matrices.keys())\n",
        "\n",
        "        for label in common_labels:\n",
        "            if label not in self.bool_matrices.keys():\n",
        "                self.bool_matrices[label] = cb.Matrix.empty(shape=(self.num_states, self.num_states))\n",
        "            if label not in other.bool_matrices.keys():\n",
        "                other.bool_matrices[label] = cb.Matrix.empty(shape=(other.num_states, other.num_states))\n",
        "\n",
        "        for label in common_labels:\n",
        "            intersection.bool_matrices[label] = self.bool_matrices[label].kronecker(other.bool_matrices[label])\n",
        "\n",
        "        for state_lhs, s_lhs_index in self.state_indices.items():\n",
        "            for state_rhs, s_rhs_index in other.state_indices.items():\n",
        "                new_state = new_state_idx = (\n",
        "                    s_lhs_index * other.num_states + s_rhs_index\n",
        "                )\n",
        "                intersection.state_indices[new_state] = new_state_idx\n",
        "\n",
        "                if state_lhs in self.start_states and state_rhs in other.start_states:\n",
        "                    intersection.start_states.add(new_state)\n",
        "\n",
        "                if state_lhs in self.final_states and state_rhs in other.final_states:\n",
        "                    intersection.final_states.add(new_state)\n",
        "\n",
        "        return intersection"
      ],
      "metadata": {
        "id": "7vl6YuSHq2jX"
      },
      "execution_count": 13,
      "outputs": []
    },
    {
      "cell_type": "code",
      "source": [
        "\"\"\"\n",
        "Ячейка с алгоритмом решения RPQ\n",
        "\"\"\"\n",
        "\n",
        "from networkx import MultiDiGraph\n",
        "from pyformlang.regular_expression import Regex\n",
        "from project.fa_utils import regex_to_dfa, nfa_to_minimal_dfa\n",
        "from project.graph_utils import graph_to_nfa\n",
        "\n",
        "def rpqCB(\n",
        "    regex: Regex, graph: MultiDiGraph, start_nodes: set = None, final_nodes: set = None\n",
        "):\n",
        "    graph_automaton_matrix = CuBoolAutomaton.from_automaton(\n",
        "        graph_to_nfa(graph, start_nodes, final_nodes)\n",
        "    )\n",
        "    regex_automaton_matrix = CuBoolAutomaton.from_automaton(\n",
        "        nfa_to_minimal_dfa(regex.to_epsilon_nfa())\n",
        "    )\n",
        "\n",
        "    intersection = graph_automaton_matrix.intersect(regex_automaton_matrix)\n",
        "    tc = intersection.get_transitive_closure()\n",
        "\n",
        "    result = set()\n",
        "    for state_from, state_to in tc:\n",
        "        if (\n",
        "            state_from in intersection.start_states\n",
        "            and state_to in intersection.final_states\n",
        "        ):\n",
        "            result.add(\n",
        "                (\n",
        "                    state_from // regex_automaton_matrix.num_states,\n",
        "                    state_to // regex_automaton_matrix.num_states,\n",
        "                )\n",
        "            )\n",
        "\n",
        "    return result"
      ],
      "metadata": {
        "id": "UgI-Q44hACpb"
      },
      "execution_count": 43,
      "outputs": []
    },
    {
      "cell_type": "code",
      "source": [
        "from project.automaton_matrix import AutomatonSetOfMatrix\n",
        "from project.cfg_utils import cfg_to_wcnf\n",
        "from project.ecfg import ECFG\n",
        "from project.graph_utils import graph_to_nfa\n",
        "from pyformlang.cfg import CFG, Variable, Terminal\n",
        "from project.rsm import RSM\n",
        "\n",
        "def cb_matrix_based(graph, cfg, **kwargs):\n",
        "    cfg = cfg_to_wcnf(cfg)\n",
        "\n",
        "    # split productions in 3 groups\n",
        "    eps_prods = set()  # A -> epsilon\n",
        "    term_prods = {}  # A -> a\n",
        "    var_prods = {}  # A -> B C\n",
        "    for p in cfg.productions:\n",
        "        if not p.body:\n",
        "            eps_prods.add(p.head)\n",
        "        elif len(p.body) == 1:\n",
        "            t = p.body[0]\n",
        "            term_prods.setdefault(p.head, set()).add(t)\n",
        "        elif len(p.body) == 2:\n",
        "            v1, v2 = p.body\n",
        "            var_prods.setdefault(p.head, set()).add((v1, v2))\n",
        "\n",
        "    # prepare adjacency matrix\n",
        "    nodes_num = graph.number_of_nodes()\n",
        "    nodes = {vertex: i for i, vertex in enumerate(graph.nodes)}\n",
        "    nodes_reversed = {i: vertex for i, vertex in enumerate(graph.nodes)}\n",
        "    matrices = {\n",
        "        v: cb.Matrix.empty(shape=(nodes_num, nodes_num)) for v in cfg.variables\n",
        "    }\n",
        " \n",
        "    # A -> terminal\n",
        "    for v, u, data in graph.edges(data=True):\n",
        "        label = data[\"label\"]\n",
        "        i = nodes[v]\n",
        "        j = nodes[u]\n",
        "        for var in term_prods:\n",
        "            if Terminal(label) in term_prods[var]:\n",
        "                matrices[var][i, j] = True\n",
        "\n",
        "    # A -> espilon loops\n",
        "    for var in eps_prods:\n",
        "        for i in range(nodes_num):\n",
        "            matrices[var][i, i] = True\n",
        "\n",
        "    # A -> B C\n",
        "    changed = True\n",
        "    while changed:\n",
        "        changed = False\n",
        "        for head in var_prods:\n",
        "            for body_b, body_c in var_prods[head]:\n",
        "                old_nnz = matrices[head].nvals\n",
        "                matrices[body_b].mxm(matrices[body_c], out=matrices[head], accumulate=True)\n",
        "                new_nnz = matrices[head].nvals\n",
        "                changed = old_nnz != new_nnz\n",
        "\n",
        "    return {\n",
        "        (nodes_reversed[v], var, nodes_reversed[u])\n",
        "        for var, matrix in matrices.items()\n",
        "        for v, u in matrix.to_list()\n",
        "    }\n",
        "\n",
        "def cb_tensor_based(graph, cfg, **kwargs):\n",
        "    g_matrix = CuBoolAutomaton.from_automaton(graph_to_nfa(graph))\n",
        "    rsm = RSM.from_ecfg((ECFG.from_cfg(cfg)))\n",
        "    rsm_matrix = CuBoolAutomaton.from_rsm(rsm)\n",
        "    rsm_idx_to_state = {i: s for s, i in rsm_matrix.state_indices.items()}\n",
        "\n",
        "    for var in cfg.get_nullable_symbols():\n",
        "        if var not in g_matrix.bool_matrices.keys():\n",
        "            g_matrix.bool_matrices[var] = cb.Matrix.empty(shape=(g_matrix.num_states, g_matrix.num_states))\n",
        "        for i in range(g_matrix.num_states):\n",
        "            g_matrix.bool_matrices[var][i, i] = True\n",
        "\n",
        "    intersection = rsm_matrix.intersect(g_matrix)\n",
        "    tc = intersection.get_transitive_closure()\n",
        "\n",
        "    prev_nnz = tc.nvals\n",
        "    new_nnz = 0\n",
        "\n",
        "    while prev_nnz != new_nnz:\n",
        "        for i, j in tc.to_list():\n",
        "            rsm_i = i // g_matrix.num_states\n",
        "            rsm_j = j // g_matrix.num_states\n",
        "\n",
        "            graph_i = i % g_matrix.num_states\n",
        "            graph_j = j % g_matrix.num_states\n",
        "\n",
        "            s, f = rsm_idx_to_state[rsm_i], rsm_idx_to_state[rsm_j]\n",
        "            var, _ = s.value\n",
        "\n",
        "            if s in rsm_matrix.start_states and f in rsm_matrix.final_states:\n",
        "                if var not in g_matrix.bool_matrices.keys():\n",
        "                    g_matrix.bool_matrices[var] = cb.Matrix.empty(shape=(g_matrix.num_states, g_matrix.num_states))\n",
        "                g_matrix.bool_matrices[var][graph_i, graph_j] = True\n",
        "\n",
        "        tc = rsm_matrix.intersect(g_matrix).get_transitive_closure()\n",
        "\n",
        "        prev_nnz, new_nnz = new_nnz, tc.nvals\n",
        "\n",
        "    return {\n",
        "        (u, label, v)\n",
        "        for label, bm in g_matrix.bool_matrices.items()\n",
        "        for u, v in bm.to_list()\n",
        "    }"
      ],
      "metadata": {
        "id": "MqSBA4rJk-gk"
      },
      "execution_count": 44,
      "outputs": []
    },
    {
      "cell_type": "code",
      "source": [
        "from pyformlang.cfg import Variable\n",
        "\n",
        "from project.cfpq import cfpq\n",
        "\n",
        "def cb_cfpq_by_matrix(\n",
        "    cfg: CFG,\n",
        "    graph: MultiDiGraph,\n",
        "    start_symbol: Variable = Variable(\"S\"),\n",
        "    start_nodes= None,\n",
        "    final_nodes= None,\n",
        "    **kwargs,\n",
        "):\n",
        "    return cfpq(\n",
        "        cfg, graph, start_symbol, start_nodes, final_nodes, cb_matrix_based, **kwargs\n",
        "    )\n",
        "\n",
        "\n",
        "def cb_cfpq_by_tensor(\n",
        "    cfg: CFG,\n",
        "    graph: MultiDiGraph,\n",
        "    start_symbol: Variable = Variable(\"S\"),\n",
        "    start_nodes= None,\n",
        "    final_nodes= None,\n",
        "    **kwargs,\n",
        "):\n",
        "    return cfpq(\n",
        "        cfg, graph, start_symbol, start_nodes, final_nodes, cb_tensor_based, **kwargs\n",
        "    )\n"
      ],
      "metadata": {
        "id": "mvLYpyQxxQKI"
      },
      "execution_count": 45,
      "outputs": []
    },
    {
      "cell_type": "markdown",
      "source": [
        "#### Маленький пример, чтобы рповерить что написано верно"
      ],
      "metadata": {
        "id": "AtZB04_JZ7re"
      }
    },
    {
      "cell_type": "code",
      "source": [
        "import networkx as nx\n",
        "import pytest\n",
        "from pyformlang.cfg import CFG\n",
        "\n",
        "from project.cfpq import cfpq_by_hellings\n",
        "\n",
        "\n",
        "def _create_graph(nodes, edges) -> nx.MultiDiGraph:\n",
        "    graph = nx.MultiDiGraph()\n",
        "    graph.add_nodes_from(nodes)\n",
        "    graph.add_edges_from(\n",
        "        list(map(lambda edge: (edge[0], edge[2], {\"label\": edge[1]}), edges))\n",
        "    )\n",
        "    return graph\n",
        "\n",
        "\n",
        "first = cb_cfpq_by_matrix(\n",
        "    cfg=CFG.from_text(\n",
        "        \"\"\"\n",
        "            S -> A B\n",
        "            A -> a\n",
        "            B -> b\n",
        "        \"\"\"\n",
        "    ),\n",
        "    graph=_create_graph(nodes=[0, 1, 2], edges=[(0, \"a\", 1), (1, \"b\", 2)]),\n",
        ")\n",
        "print(f\"etalon = {(0, 2)}; cb_matrix = {first}\")\n",
        "\n",
        "second = cb_cfpq_by_tensor(\n",
        "    cfg=CFG.from_text(\n",
        "        \"\"\"\n",
        "            S -> A B\n",
        "            A -> a\n",
        "            B -> b\n",
        "        \"\"\"\n",
        "    ),\n",
        "    graph=_create_graph(nodes=[0, 1, 2], edges=[(0, \"a\", 1), (1, \"b\", 2)]),\n",
        ")\n",
        "print(f\"etalon = {(0, 2)}; cb_tensor = {second}\")\n",
        "\n",
        "first = cb_cfpq_by_matrix(\n",
        "    cfg=CFG.from_text(\n",
        "        \"\"\"\n",
        "            S -> $\n",
        "        \"\"\"\n",
        "    ),\n",
        "    graph=_create_graph(nodes=[0, 1], edges=[(0, \"a\", 1), (1, \"b\", 0)])\n",
        ")\n",
        "print(f\"etalon = {(0, 0), (1, 1)}; cb_matrix = {first}\")\n",
        "\n",
        "second = cb_cfpq_by_tensor(\n",
        "    cfg=CFG.from_text(\n",
        "        \"\"\"\n",
        "            S -> $\n",
        "        \"\"\"\n",
        "    ),\n",
        "    graph=_create_graph(nodes=[0, 1], edges=[(0, \"a\", 1), (1, \"b\", 0)])\n",
        ")\n",
        "print(f\"etalon = {(0, 0), (1, 1)}; cb_tensor = {second}\")"
      ],
      "metadata": {
        "colab": {
          "base_uri": "https://localhost:8080/"
        },
        "id": "v8qpUQvRWxn5",
        "outputId": "54bc9331-1384-4d89-91c2-b9b5c1fea210"
      },
      "execution_count": 46,
      "outputs": [
        {
          "output_type": "stream",
          "name": "stdout",
          "text": [
            "etalon = (0, 2); cb_matrix = {(0, 2)}\n",
            "etalon = (0, 2); cb_tensor = {(0, 2)}\n",
            "etalon = ((0, 0), (1, 1)); cb_matrix = {(1, 1), (0, 0)}\n",
            "etalon = ((0, 0), (1, 1)); cb_tensor = {(1, 1), (0, 0)}\n"
          ]
        }
      ]
    },
    {
      "cell_type": "markdown",
      "source": [
        "## Постановка экспериментов"
      ],
      "metadata": {
        "id": "hCG9HYs1x4h8"
      }
    },
    {
      "cell_type": "markdown",
      "source": [
        "### Вспомогательные функции"
      ],
      "metadata": {
        "id": "FAgCgDDLyMl3"
      }
    },
    {
      "cell_type": "code",
      "source": [
        "# Подготовка параметров запросов \n",
        "\n",
        "import networkx as nx\n",
        "\n",
        "LAUNCH_AT_SMALL = 5\n",
        "LAUNCH_AT_LARGE = 1"
      ],
      "metadata": {
        "id": "_16QLS7V06JR"
      },
      "execution_count": 47,
      "outputs": []
    },
    {
      "cell_type": "code",
      "source": [
        "ALGORITHMS = {\n",
        "    \"cfpq_hellings_scipy\": cfpq_by_hellings,\n",
        "    \"cfpq_matrix_cb\": cb_cfpq_by_matrix,\n",
        "    \"cfpq_tensor_cb\": cb_cfpq_by_tensor,\n",
        "    \"rpq_tensor_cb\": rpqCB\n",
        "}\n",
        "CFPQ_ALGORITHMS = {\n",
        "    # \"cfpq_matrix_scipy\": cfpq_by_matrix,\n",
        "    \"cfpq_hellings_scipy\": cfpq_by_hellings,\n",
        "    # \"cfpq_tensor_scipy\": cfpq_by_tensor,\n",
        "    \"cfpq_matrix_cb\": cb_cfpq_by_matrix,\n",
        "    \"cfpq_tensor_cb\": cb_cfpq_by_tensor\n",
        "}\n",
        "RPQ_ALGORITHMS = {\n",
        "    \"rpq_tensor_cb\": rpqCB\n",
        "} "
      ],
      "metadata": {
        "id": "s4gs-5NTyP_7"
      },
      "execution_count": 48,
      "outputs": []
    },
    {
      "cell_type": "code",
      "source": [
        "import csv\n",
        "\n",
        "# Write results to CSV to get more free memory\n",
        "def write_measurements(path, rows):\n",
        "  fieldnames = (\"Graph\", \"Query\", \"Algorithm\", \"Time(s)\")\n",
        "\n",
        "  with open(path, 'w', encoding='UTF8', newline='') as f:\n",
        "    writer = csv.DictWriter(f, fieldnames=fieldnames)\n",
        "    writer.writeheader()\n",
        "    writer.writerows(rows)\n",
        "\n"
      ],
      "metadata": {
        "id": "gS5w2ViN063N"
      },
      "execution_count": 49,
      "outputs": []
    },
    {
      "cell_type": "code",
      "source": [
        "import signal\n",
        "import time\n",
        "import cfpq_data\n",
        "\n",
        "from project.manager import get_graph\n",
        "from project.graph_utils import GraphInfo, get_graph_info\n",
        "\n",
        "def signal_handler(signum, frame):\n",
        "    raise Exception(\"Timed out!\")\n",
        "\n",
        "signal.signal(signal.SIGALRM, signal_handler)\n",
        "\n",
        "def run_and_save(algo_name, query_type, graph, queries, run_number, timeouts=None):\n",
        "    graph_info = get_graph_info(graph)\n",
        "    labels = list(graph_info.labels)\n",
        "\n",
        "    rows = []\n",
        "    avg_time = 0\n",
        "    for _ in range(run_number):\n",
        "        for query_index, (query_name, query) in enumerate(queries):\n",
        "            if timeouts:\n",
        "                signal.alarm(int(timeouts[query_index] + 1))\n",
        "            q = query\n",
        "            if query_type != 'cfpq':\n",
        "                q = query(labels)\n",
        "                # print(q)\n",
        "            start_time = time.time()\n",
        "            ALGORITHMS[algo_name](q, graph)\n",
        "            end_time = time.time()\n",
        "            avg_time += end_time - start_time\n",
        "            rows.append({\n",
        "                'Graph': graph_name,\n",
        "                'Query': query_name,\n",
        "                'Algorithm': algo_name,\n",
        "                'Time(s)': end_time - start_time, \n",
        "            })\n",
        "    write_measurements(f'{query_type}#{algo_name}#{graph_name}.csv', rows)\n",
        "    return avg_time / run_number / len(queries)\n",
        "\n",
        "def run_measurements(graph_name, run_number, timeouts=None):\n",
        "    times = {'cfpq': 0, 'rpq_cfg': 0, 'rpq_reg': 0}\n",
        "    local_timets = {'cfpq': None, 'rpq_cfg': None, 'rpq_reg': None}\n",
        "    if timeouts:\n",
        "        local_timets = timeouts\n",
        "\n",
        "    graph = get_graph(graph_name)\n",
        "    \n",
        "    cf_queries = get_cf_queries(graph_name)\n",
        "    print(\"== Start cfpq \")\n",
        "    for algo_name in CFPQ_ALGORITHMS:\n",
        "        print(f\"\\t{algo_name}\", end=' ')\n",
        "        times['cfpq'] = max(times['cfpq'], \n",
        "                            run_and_save(algo_name, 'cfpq', graph, cf_queries, run_number, timeouts=local_timets['cfpq']))\n",
        "    print(\"\\n==End cfpq\")\n",
        "    print(\"== Start rpq_cfg \")\n",
        "    reg_cfg_queries = CFG_GENERATORS\n",
        "    for algo_name in CFPQ_ALGORITHMS:\n",
        "        print(f\"\\t{algo_name}\", end=' ')\n",
        "        times['rpq_cfg'] = max(times['rpq_cfg'], \n",
        "                               run_and_save(algo_name, 'cfg', graph, reg_cfg_queries, run_number, timeouts=local_timets['rpq_cfg']))\n",
        "    print(\"\\n==End rpq_cfg\")\n",
        "    print(\"== Start rpq_reg \")\n",
        "    reg_queries = REG_GENERATORS\n",
        "    for algo_name in RPQ_ALGORITHMS:\n",
        "        print(f\"\\t{algo_name}\", end=' ')\n",
        "        times['rpq_reg'] = max(times['rpq_reg'], \n",
        "                               run_and_save(algo_name, 'rpq', graph, reg_queries, run_number, timeouts=local_timets['rpq_reg']))\n",
        "    print(\"\\n==End rpq_reg\")\n",
        "    return times"
      ],
      "metadata": {
        "id": "Tq0hfT_DzJm5"
      },
      "execution_count": 50,
      "outputs": []
    },
    {
      "cell_type": "markdown",
      "source": [
        "### Запуск замеров\n",
        "\n",
        "Для больших графов в качестве верхней границы времени исполнения на конкретном графе будет выставлено максимальное время выполнения запроса на `pycubool` для этого же графа умноженное на `1.25` для устранения возможной погрешности, в связи с длительностью исполнения запросов на `scipy`"
      ],
      "metadata": {
        "id": "5Bg1no7RCMCi"
      }
    },
    {
      "cell_type": "code",
      "source": [
        "TIMEOUTS = {}"
      ],
      "metadata": {
        "id": "WRFGfPpCHEzB"
      },
      "execution_count": 51,
      "outputs": []
    },
    {
      "cell_type": "code",
      "source": [
        "print(\"=== Small graphs ===\")\n",
        "for graph_name in SMALL_GRAPHS:\n",
        "    print(f\"= Graph {graph_name} =\")\n",
        "    times = run_measurements(graph_name, LAUNCH_AT_SMALL)\n",
        "    TIMEOUTS[graph_name] = times\n",
        "\n",
        "print(\"=== Large graphs ===\")\n",
        "for graph_name in LARGE_GRAPHS:\n",
        "    print(f\"= Graph {graph_name} =\")\n",
        "    times = run_measurements(graph_name, LAUNCH_AT_LARGE)\n",
        "    TIMEOUTS[graph_name] = times"
      ],
      "metadata": {
        "colab": {
          "base_uri": "https://localhost:8080/",
          "height": 1000
        },
        "id": "zknvr1kyEyj1",
        "outputId": "d4d4bc34-6b81-4ec9-a274-a49ef22204ba"
      },
      "execution_count": 52,
      "outputs": [
        {
          "output_type": "stream",
          "name": "stdout",
          "text": [
            "=== Small graphs ===\n",
            "= Graph atom =\n",
            "== Start cfpq \n",
            "\tcfpq_hellings_scipy \tcfpq_matrix_cb \tcfpq_tensor_cb \n",
            "==End cfpq\n",
            "== Start rpq_cfg \n",
            "\tcfpq_hellings_scipy \tcfpq_matrix_cb \tcfpq_tensor_cb \n",
            "==End rpq_cfg\n",
            "== Start rpq_reg \n",
            "\trpq_tensor_cb \n",
            "==End rpq_reg\n",
            "= Graph skos =\n",
            "== Start cfpq \n",
            "\tcfpq_hellings_scipy \tcfpq_matrix_cb \tcfpq_tensor_cb \n",
            "==End cfpq\n",
            "== Start rpq_cfg \n",
            "\tcfpq_hellings_scipy \tcfpq_matrix_cb \tcfpq_tensor_cb \n",
            "==End rpq_cfg\n",
            "== Start rpq_reg \n",
            "\trpq_tensor_cb \n",
            "==End rpq_reg\n",
            "= Graph ls =\n",
            "== Start cfpq \n",
            "\tcfpq_hellings_scipy \tcfpq_matrix_cb \tcfpq_tensor_cb \n",
            "==End cfpq\n",
            "== Start rpq_cfg \n",
            "\tcfpq_hellings_scipy \tcfpq_matrix_cb \tcfpq_tensor_cb \n",
            "==End rpq_cfg\n",
            "== Start rpq_reg \n",
            "\trpq_tensor_cb \n",
            "==End rpq_reg\n",
            "= Graph bzip =\n",
            "== Start cfpq \n",
            "\tcfpq_hellings_scipy \tcfpq_matrix_cb \tcfpq_tensor_cb \n",
            "==End cfpq\n",
            "== Start rpq_cfg \n",
            "\tcfpq_hellings_scipy \tcfpq_matrix_cb \tcfpq_tensor_cb \n",
            "==End rpq_cfg\n",
            "== Start rpq_reg \n",
            "\trpq_tensor_cb \n",
            "==End rpq_reg\n",
            "=== Large graphs ===\n",
            "= Graph jython =\n",
            "== Start cfpq \n",
            "\tcfpq_hellings_scipy "
          ]
        },
        {
          "output_type": "error",
          "ename": "KeyboardInterrupt",
          "evalue": "ignored",
          "traceback": [
            "\u001b[0;31m---------------------------------------------------------------------------\u001b[0m",
            "\u001b[0;31mKeyboardInterrupt\u001b[0m                         Traceback (most recent call last)",
            "\u001b[0;32m<ipython-input-52-33a60117aaf1>\u001b[0m in \u001b[0;36m<module>\u001b[0;34m\u001b[0m\n\u001b[1;32m      8\u001b[0m \u001b[0;32mfor\u001b[0m \u001b[0mgraph_name\u001b[0m \u001b[0;32min\u001b[0m \u001b[0mLARGE_GRAPHS\u001b[0m\u001b[0;34m:\u001b[0m\u001b[0;34m\u001b[0m\u001b[0;34m\u001b[0m\u001b[0m\n\u001b[1;32m      9\u001b[0m     \u001b[0mprint\u001b[0m\u001b[0;34m(\u001b[0m\u001b[0;34mf\"= Graph {graph_name} =\"\u001b[0m\u001b[0;34m)\u001b[0m\u001b[0;34m\u001b[0m\u001b[0;34m\u001b[0m\u001b[0m\n\u001b[0;32m---> 10\u001b[0;31m     \u001b[0mtimes\u001b[0m \u001b[0;34m=\u001b[0m \u001b[0mrun_measurements\u001b[0m\u001b[0;34m(\u001b[0m\u001b[0mgraph_name\u001b[0m\u001b[0;34m,\u001b[0m \u001b[0mLAUNCH_AT_LARGE\u001b[0m\u001b[0;34m)\u001b[0m\u001b[0;34m\u001b[0m\u001b[0;34m\u001b[0m\u001b[0m\n\u001b[0m\u001b[1;32m     11\u001b[0m     \u001b[0mTIMEOUTS\u001b[0m\u001b[0;34m[\u001b[0m\u001b[0mgraph_name\u001b[0m\u001b[0;34m]\u001b[0m \u001b[0;34m=\u001b[0m \u001b[0mtimes\u001b[0m\u001b[0;34m\u001b[0m\u001b[0;34m\u001b[0m\u001b[0m\n",
            "\u001b[0;32m<ipython-input-50-a40b29bf83c2>\u001b[0m in \u001b[0;36mrun_measurements\u001b[0;34m(graph_name, run_number, timeouts)\u001b[0m\n\u001b[1;32m     57\u001b[0m         \u001b[0mprint\u001b[0m\u001b[0;34m(\u001b[0m\u001b[0;34mf\"\\t{algo_name}\"\u001b[0m\u001b[0;34m,\u001b[0m \u001b[0mend\u001b[0m\u001b[0;34m=\u001b[0m\u001b[0;34m' '\u001b[0m\u001b[0;34m)\u001b[0m\u001b[0;34m\u001b[0m\u001b[0;34m\u001b[0m\u001b[0m\n\u001b[1;32m     58\u001b[0m         times['cfpq'] = max(times['cfpq'], \n\u001b[0;32m---> 59\u001b[0;31m                             run_and_save(algo_name, 'cfpq', graph, cf_queries, run_number, timeouts=local_timets['cfpq']))\n\u001b[0m\u001b[1;32m     60\u001b[0m     \u001b[0mprint\u001b[0m\u001b[0;34m(\u001b[0m\u001b[0;34m\"\\n==End cfpq\"\u001b[0m\u001b[0;34m)\u001b[0m\u001b[0;34m\u001b[0m\u001b[0;34m\u001b[0m\u001b[0m\n\u001b[1;32m     61\u001b[0m     \u001b[0mprint\u001b[0m\u001b[0;34m(\u001b[0m\u001b[0;34m\"== Start rpq_cfg \"\u001b[0m\u001b[0;34m)\u001b[0m\u001b[0;34m\u001b[0m\u001b[0;34m\u001b[0m\u001b[0m\n",
            "\u001b[0;32m<ipython-input-50-a40b29bf83c2>\u001b[0m in \u001b[0;36mrun_and_save\u001b[0;34m(algo_name, query_type, graph, queries, run_number, timeouts)\u001b[0m\n\u001b[1;32m     26\u001b[0m                 \u001b[0;31m# print(q)\u001b[0m\u001b[0;34m\u001b[0m\u001b[0;34m\u001b[0m\u001b[0;34m\u001b[0m\u001b[0m\n\u001b[1;32m     27\u001b[0m             \u001b[0mstart_time\u001b[0m \u001b[0;34m=\u001b[0m \u001b[0mtime\u001b[0m\u001b[0;34m.\u001b[0m\u001b[0mtime\u001b[0m\u001b[0;34m(\u001b[0m\u001b[0;34m)\u001b[0m\u001b[0;34m\u001b[0m\u001b[0;34m\u001b[0m\u001b[0m\n\u001b[0;32m---> 28\u001b[0;31m             \u001b[0mALGORITHMS\u001b[0m\u001b[0;34m[\u001b[0m\u001b[0malgo_name\u001b[0m\u001b[0;34m]\u001b[0m\u001b[0;34m(\u001b[0m\u001b[0mq\u001b[0m\u001b[0;34m,\u001b[0m \u001b[0mgraph\u001b[0m\u001b[0;34m)\u001b[0m\u001b[0;34m\u001b[0m\u001b[0;34m\u001b[0m\u001b[0m\n\u001b[0m\u001b[1;32m     29\u001b[0m             \u001b[0mend_time\u001b[0m \u001b[0;34m=\u001b[0m \u001b[0mtime\u001b[0m\u001b[0;34m.\u001b[0m\u001b[0mtime\u001b[0m\u001b[0;34m(\u001b[0m\u001b[0;34m)\u001b[0m\u001b[0;34m\u001b[0m\u001b[0;34m\u001b[0m\u001b[0m\n\u001b[1;32m     30\u001b[0m             \u001b[0;31m# try:\u001b[0m\u001b[0;34m\u001b[0m\u001b[0;34m\u001b[0m\u001b[0;34m\u001b[0m\u001b[0m\n",
            "\u001b[0;32m/content/formal-lang-course/project/cfpq.py\u001b[0m in \u001b[0;36mcfpq_by_hellings\u001b[0;34m(cfg, graph, start_symbol, start_nodes, final_nodes, **kwargs)\u001b[0m\n\u001b[1;32m    324\u001b[0m         \u001b[0mTuple\u001b[0m \u001b[0;32mwith\u001b[0m \u001b[0mnodes\u001b[0m \u001b[0msatisfying\u001b[0m \u001b[0mcfpq\u001b[0m\u001b[0;34m\u001b[0m\u001b[0;34m\u001b[0m\u001b[0m\n\u001b[1;32m    325\u001b[0m     \"\"\"\n\u001b[0;32m--> 326\u001b[0;31m     \u001b[0;32mreturn\u001b[0m \u001b[0mcfpq\u001b[0m\u001b[0;34m(\u001b[0m\u001b[0mcfg\u001b[0m\u001b[0;34m,\u001b[0m \u001b[0mgraph\u001b[0m\u001b[0;34m,\u001b[0m \u001b[0mstart_symbol\u001b[0m\u001b[0;34m,\u001b[0m \u001b[0mstart_nodes\u001b[0m\u001b[0;34m,\u001b[0m \u001b[0mfinal_nodes\u001b[0m\u001b[0;34m,\u001b[0m \u001b[0mhellings\u001b[0m\u001b[0;34m,\u001b[0m \u001b[0;34m**\u001b[0m\u001b[0mkwargs\u001b[0m\u001b[0;34m)\u001b[0m\u001b[0;34m\u001b[0m\u001b[0;34m\u001b[0m\u001b[0m\n\u001b[0m\u001b[1;32m    327\u001b[0m \u001b[0;34m\u001b[0m\u001b[0m\n\u001b[1;32m    328\u001b[0m \u001b[0;34m\u001b[0m\u001b[0m\n",
            "\u001b[0;32m/content/formal-lang-course/project/cfpq.py\u001b[0m in \u001b[0;36mcfpq\u001b[0;34m(cfg, graph, start_symbol, start_nodes, final_nodes, algorithm, **kwargs)\u001b[0m\n\u001b[1;32m    440\u001b[0m         \u001b[0mfinal_nodes\u001b[0m \u001b[0;34m=\u001b[0m \u001b[0mset\u001b[0m\u001b[0;34m(\u001b[0m\u001b[0mgraph\u001b[0m\u001b[0;34m.\u001b[0m\u001b[0mnodes\u001b[0m\u001b[0;34m)\u001b[0m\u001b[0;34m\u001b[0m\u001b[0;34m\u001b[0m\u001b[0m\n\u001b[1;32m    441\u001b[0m \u001b[0;34m\u001b[0m\u001b[0m\n\u001b[0;32m--> 442\u001b[0;31m     \u001b[0mresult\u001b[0m \u001b[0;34m=\u001b[0m \u001b[0malgorithm\u001b[0m\u001b[0;34m(\u001b[0m\u001b[0mgraph\u001b[0m\u001b[0;34m,\u001b[0m \u001b[0mcfg\u001b[0m\u001b[0;34m,\u001b[0m \u001b[0;34m**\u001b[0m\u001b[0margs\u001b[0m\u001b[0;34m)\u001b[0m\u001b[0;34m\u001b[0m\u001b[0;34m\u001b[0m\u001b[0m\n\u001b[0m\u001b[1;32m    443\u001b[0m     ans = set(\n\u001b[1;32m    444\u001b[0m         [\n",
            "\u001b[0;32m/content/formal-lang-course/project/cfpq.py\u001b[0m in \u001b[0;36mhellings\u001b[0;34m(graph, cfg, **kwargs)\u001b[0m\n\u001b[1;32m     92\u001b[0m \u001b[0;34m\u001b[0m\u001b[0m\n\u001b[1;32m     93\u001b[0m         \u001b[0;32mfor\u001b[0m \u001b[0mtriple\u001b[0m \u001b[0;32min\u001b[0m \u001b[0mresult\u001b[0m\u001b[0;34m:\u001b[0m\u001b[0;34m\u001b[0m\u001b[0;34m\u001b[0m\u001b[0m\n\u001b[0;32m---> 94\u001b[0;31m             \u001b[0;32mif\u001b[0m \u001b[0mtriple\u001b[0m\u001b[0;34m[\u001b[0m\u001b[0;34m-\u001b[0m\u001b[0;36m1\u001b[0m\u001b[0;34m]\u001b[0m \u001b[0;34m==\u001b[0m \u001b[0ms\u001b[0m\u001b[0;34m:\u001b[0m\u001b[0;34m\u001b[0m\u001b[0;34m\u001b[0m\u001b[0m\n\u001b[0m\u001b[1;32m     95\u001b[0m                 \u001b[0;32mfor\u001b[0m \u001b[0mcurr_var\u001b[0m \u001b[0;32min\u001b[0m \u001b[0mvar_prods\u001b[0m\u001b[0;34m:\u001b[0m\u001b[0;34m\u001b[0m\u001b[0;34m\u001b[0m\u001b[0m\n\u001b[1;32m     96\u001b[0m                     if (triple[1], var) in var_prods[curr_var] and (\n",
            "\u001b[0;31mKeyboardInterrupt\u001b[0m: "
          ]
        }
      ]
    },
    {
      "cell_type": "markdown",
      "source": [
        "## Анализ результатов экспериментов"
      ],
      "metadata": {
        "id": "95xGCvDaOqV_"
      }
    },
    {
      "cell_type": "code",
      "source": [
        "import pandas as pd\n",
        "import matplotlib.pyplot as plt\n",
        "import seaborn as sns\n",
        "\n",
        "def create_df(query_type, graph_names, algos):\n",
        "    dfs = []\n",
        "\n",
        "    for algo_name in algos:\n",
        "        for graph_name in graph_names:\n",
        "            df = pd.read_csv(f'{query_type}#{algo_name}#{graph_name}.csv')\n",
        "            dfs.append(df)\n",
        "\n",
        "    return pd.concat(dfs, ignore_index=True)\n",
        "\n",
        "plt.ion()\n",
        "plt.figure(figsize=(20,20))\n",
        "sns.set_theme()\n",
        "\n"
      ],
      "metadata": {
        "colab": {
          "base_uri": "https://localhost:8080/",
          "height": 35
        },
        "id": "PElAtjINtHQU",
        "outputId": "8d90797e-53fc-4a22-cb28-f74aa5ce3351"
      },
      "execution_count": 64,
      "outputs": [
        {
          "output_type": "display_data",
          "data": {
            "text/plain": [
              "<Figure size 1440x1440 with 0 Axes>"
            ]
          },
          "metadata": {}
        }
      ]
    },
    {
      "cell_type": "markdown",
      "source": [
        "### Результаты сравнения алгоритмов решения CFPQ задачи\n"
      ],
      "metadata": {
        "id": "B4H7_cijzZ5L"
      }
    },
    {
      "cell_type": "code",
      "source": [
        "def plot_cfpq_results():\n",
        "    res = create_df(\"cfpq\", SMALL_GRAPHS, CFPQ_ALGORITHMS)\n",
        "    res[\"Measurement\"] = res[\"Query\"] + \" - \" + res[\"Graph\"]\n",
        "    res.drop(columns=[\"Graph\", \"Query\"])\n",
        "    ax = plt.subplot()\n",
        "    ax.set(yscale=\"log\")\n",
        "    g = sns.pointplot(\n",
        "        data=res,\n",
        "        x=\"Measurement\",\n",
        "        y=\"Time(s)\",\n",
        "        hue=\"Algorithm\",\n",
        "        join=False,\n",
        "        ax=ax,\n",
        "    )\n",
        "    g.set_title(\"Результаты решения задачи CFPQ\")\n",
        "    g.set_xticklabels(g.get_xticklabels(), rotation=60)\n",
        "\n",
        "\n",
        "plot_cfpq_results()"
      ],
      "metadata": {
        "colab": {
          "base_uri": "https://localhost:8080/",
          "height": 358
        },
        "id": "IOGd1Gxzi9sj",
        "outputId": "60d3f1bc-7043-449b-87e7-78c907b0ab51"
      },
      "execution_count": 65,
      "outputs": [
        {
          "output_type": "display_data",
          "data": {
            "text/plain": [
              "<Figure size 432x288 with 1 Axes>"
            ],
            "image/png": "[encoded data removed]"
          },
          "metadata": {}
        }
      ]
    },
    {
      "cell_type": "markdown",
      "source": [
        "### Результаты сравнения алгоритмов специализированного решения RPQ задачи и RPQ как CFPQ"
      ],
      "metadata": {
        "id": "eJSr-Dgr4XZr"
      }
    },
    {
      "cell_type": "code",
      "source": [
        "def plot_cfpq_results():\n",
        "    res = pd.concat([create_df(\"cfg\", SMALL_GRAPHS, CFPQ_ALGORITHMS), \n",
        "                     create_df(\"rpq\", SMALL_GRAPHS, RPQ_ALGORITHMS)], ignore_index=True)\n",
        "    res[\"Measurement\"] = res[\"Query\"] + \" - \" + res[\"Graph\"]\n",
        "    res.drop(columns=[\"Graph\", \"Query\"])\n",
        "    ax = plt.subplot()\n",
        "    ax.set(yscale=\"log\")\n",
        "    g = sns.pointplot(\n",
        "        data=res,\n",
        "        x=\"Measurement\",\n",
        "        y=\"Time(s)\",\n",
        "        hue=\"Algorithm\",\n",
        "        join=False,\n",
        "        ax=ax,\n",
        "    )\n",
        "    g.set_title(\"Регулярные запросы как часть контекстно-свободных\")\n",
        "    g.set_xticklabels(g.get_xticklabels(), rotation=60)\n",
        "\n",
        "\n",
        "plot_cfpq_results()"
      ],
      "metadata": {
        "colab": {
          "base_uri": "https://localhost:8080/",
          "height": 418
        },
        "id": "1Wvtq7vt47pk",
        "outputId": "033ddd21-13ae-4bb3-869f-8004bfac9679"
      },
      "execution_count": 62,
      "outputs": [
        {
          "output_type": "display_data",
          "data": {
            "text/plain": [
              "<Figure size 432x288 with 1 Axes>"
            ],
            "image/png": "[encoded data removed]"
          },
          "metadata": {}
        }
      ]
    },
    {
      "cell_type": "markdown",
      "source": [
        "### Заключение\n",
        "TODO"
      ],
      "metadata": {
        "id": "_fI7WxBq6Ij6"
      }
    }
  ]
}